{
 "cells": [
  {
   "cell_type": "raw",
   "id": "89e514d6",
   "metadata": {},
   "source": [
    "## Write a Python program that checks whether a given number is prime or not. A prime number is a natural number greater than 1 that has no positive divisors other than 1 and itself."
   ]
  },
  {
   "cell_type": "code",
   "execution_count": 1,
   "id": "6e3e5409",
   "metadata": {},
   "outputs": [
    {
     "name": "stdout",
     "output_type": "stream",
     "text": [
      "Enter the number to check whether it is prime or not :2\n",
      "2 is a prime number\n"
     ]
    }
   ],
   "source": [
    "num = int(input(\"Enter the number to check whether it is prime or not :\"))\n",
    "if num <= 1:\n",
    "    print(num, \"is not a prime number\")\n",
    "else:\n",
    "        for i in range (2, num):\n",
    "            if num % i == 0:\n",
    "                print(num, \"is not a prime number\")\n",
    "                break\n",
    "        else:\n",
    "                print(num,\"is a prime number\")"
   ]
  },
  {
   "cell_type": "raw",
   "id": "e8db65f9",
   "metadata": {},
   "source": [
    "## Product of random numbers"
   ]
  },
  {
   "cell_type": "code",
   "execution_count": 2,
   "id": "c62c83a7",
   "metadata": {},
   "outputs": [
    {
     "name": "stdout",
     "output_type": "stream",
     "text": [
      "59\n",
      "235\n",
      "enter the product of 59 and 235\n",
      "enter the value:1012\n",
      "sorry the entered value is wrong the correct answer is 13865\n"
     ]
    }
   ],
   "source": [
    "import random as rd\n",
    "n1 = rd.randint(1,500)\n",
    "print(n1)\n",
    "n2 = rd.randint(1,500)\n",
    "print(n2)\n",
    "print(\"enter the product of\",n1,\"and\",n2)\n",
    "answer = int(input(\"enter the value:\"))\n",
    "if (answer == n1 * n2):\n",
    "    print(\"congrats\", answer, \"entered answer is correct\")\n",
    "else:\n",
    "    print(\"sorry the entered value is wrong the correct answer is\", n1*n2)"
   ]
  },
  {
   "cell_type": "raw",
   "id": "a38e117b",
   "metadata": {},
   "source": [
    "## Square of Even or odd numbers"
   ]
  },
  {
   "cell_type": "code",
   "execution_count": 13,
   "id": "c92dc590",
   "metadata": {},
   "outputs": [
    {
     "name": "stdout",
     "output_type": "stream",
     "text": [
      "result = 10201\n",
      "result = 10609\n",
      "result = 11025\n",
      "result = 11449\n",
      "result = 11881\n",
      "result = 12321\n",
      "result = 12769\n",
      "result = 13225\n",
      "result = 13689\n",
      "result = 14161\n",
      "result = 14641\n",
      "result = 15129\n",
      "result = 15625\n",
      "result = 16129\n",
      "result = 16641\n",
      "result = 17161\n",
      "result = 17689\n",
      "result = 18225\n",
      "result = 18769\n",
      "result = 19321\n",
      "result = 19881\n",
      "result = 20449\n",
      "result = 21025\n",
      "result = 21609\n",
      "result = 22201\n",
      "result = 22801\n",
      "result = 23409\n",
      "result = 24025\n",
      "result = 24649\n",
      "result = 25281\n",
      "result = 25921\n",
      "result = 26569\n",
      "result = 27225\n",
      "result = 27889\n",
      "result = 28561\n",
      "result = 29241\n",
      "result = 29929\n",
      "result = 30625\n",
      "result = 31329\n",
      "result = 32041\n",
      "result = 32761\n",
      "result = 33489\n",
      "result = 34225\n",
      "result = 34969\n",
      "result = 35721\n",
      "result = 36481\n",
      "result = 37249\n",
      "result = 38025\n",
      "result = 38809\n",
      "result = 39601\n",
      "None\n"
     ]
    }
   ],
   "source": [
    "\n",
    "start = 100\n",
    "end = 200\n",
    "def even_number_square(start,end):\n",
    "    for i in range(start,end+1):\n",
    "        if i%2 == 0:\n",
    "            print(\"result = \",i*i)\n",
    "def odd_number_square(start,end):\n",
    "    for i in range(start, end+1):\n",
    "        if i%2 != 0:\n",
    "            print(\"result =\", i*i)\n",
    "print(odd_number_square(start,end))"
   ]
  },
  {
   "cell_type": "raw",
   "id": "53999144",
   "metadata": {},
   "source": [
    "## Word counter"
   ]
  },
  {
   "cell_type": "code",
   "execution_count": 6,
   "id": "d579ed0e",
   "metadata": {},
   "outputs": [
    {
     "name": "stdout",
     "output_type": "stream",
     "text": [
      "enter the sentence:This is a sample test. This text will be used to demonstarte the word counter.\n",
      "{'This': 2, 'is': 1, 'a': 1, 'sample': 1, 'test.': 1, 'text': 1, 'will': 1, 'be': 1, 'used': 1, 'to': 1, 'demonstarte': 1, 'the': 1, 'word': 1, 'counter.': 1}\n"
     ]
    }
   ],
   "source": [
    "text = input(\"enter the sentence:\")\n",
    "def count_words_(text):\n",
    "    counts = dict()\n",
    "    words = text.split()\n",
    "    for word in words:\n",
    "        if word in counts:\n",
    "            counts[word] += 1\n",
    "        else:\n",
    "            counts[word] = 1\n",
    "    return counts\n",
    "print(count_words_(text))"
   ]
  },
  {
   "cell_type": "raw",
   "id": "cbfe10e9",
   "metadata": {},
   "source": [
    "## Check for palindrome"
   ]
  },
  {
   "cell_type": "code",
   "execution_count": 10,
   "id": "ea5f0582",
   "metadata": {},
   "outputs": [
    {
     "name": "stdout",
     "output_type": "stream",
     "text": [
      "enter the word to check for palindrome:racecar\n",
      "string is palindrome\n"
     ]
    }
   ],
   "source": [
    "string = input(\"enter the word to check for palindrome:\")\n",
    "reverse_string = string[::-1]\n",
    "if string == reverse_string:\n",
    "    print(\"string is palindrome\")\n",
    "else:\n",
    "    print(\"string is not palindrome\")"
   ]
  },
  {
   "cell_type": "code",
   "execution_count": null,
   "id": "06ca777e",
   "metadata": {},
   "outputs": [],
   "source": []
  }
 ],
 "metadata": {
  "kernelspec": {
   "display_name": "Python 3 (ipykernel)",
   "language": "python",
   "name": "python3"
  },
  "language_info": {
   "codemirror_mode": {
    "name": "ipython",
    "version": 3
   },
   "file_extension": ".py",
   "mimetype": "text/x-python",
   "name": "python",
   "nbconvert_exporter": "python",
   "pygments_lexer": "ipython3",
   "version": "3.10.9"
  }
 },
 "nbformat": 4,
 "nbformat_minor": 5
}
