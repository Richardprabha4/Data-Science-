{
 "cells": [
  {
   "cell_type": "markdown",
   "id": "d43cbfc4-ec53-4975-aeee-f6d667f21bf0",
   "metadata": {},
   "source": [
    "Naive Bayes "
   ]
  },
  {
   "cell_type": "code",
   "execution_count": 1,
   "id": "3187336d-0478-43ef-b902-2b444ab0cfe3",
   "metadata": {},
   "outputs": [],
   "source": [
    "import pandas as pd\n",
    "import numpy as np\n",
    "import matplotlib.pyplot as plt\n",
    "import seaborn as sns\n",
    "import warnings\n",
    "warnings.filterwarnings(\"ignore\")\n",
    "Data = pd.read_csv(\"blogs.csv\")"
   ]
  },
  {
   "cell_type": "code",
   "execution_count": 2,
   "id": "a20a9156-bfde-4ef1-85e3-9d3adf1ea6ec",
   "metadata": {},
   "outputs": [
    {
     "data": {
      "text/html": [
       "<div>\n",
       "<style scoped>\n",
       "    .dataframe tbody tr th:only-of-type {\n",
       "        vertical-align: middle;\n",
       "    }\n",
       "\n",
       "    .dataframe tbody tr th {\n",
       "        vertical-align: top;\n",
       "    }\n",
       "\n",
       "    .dataframe thead th {\n",
       "        text-align: right;\n",
       "    }\n",
       "</style>\n",
       "<table border=\"1\" class=\"dataframe\">\n",
       "  <thead>\n",
       "    <tr style=\"text-align: right;\">\n",
       "      <th></th>\n",
       "      <th>Data</th>\n",
       "      <th>Labels</th>\n",
       "    </tr>\n",
       "  </thead>\n",
       "  <tbody>\n",
       "    <tr>\n",
       "      <th>0</th>\n",
       "      <td>Path: cantaloupe.srv.cs.cmu.edu!magnesium.club...</td>\n",
       "      <td>alt.atheism</td>\n",
       "    </tr>\n",
       "    <tr>\n",
       "      <th>1</th>\n",
       "      <td>Newsgroups: alt.atheism\\nPath: cantaloupe.srv....</td>\n",
       "      <td>alt.atheism</td>\n",
       "    </tr>\n",
       "    <tr>\n",
       "      <th>2</th>\n",
       "      <td>Path: cantaloupe.srv.cs.cmu.edu!das-news.harva...</td>\n",
       "      <td>alt.atheism</td>\n",
       "    </tr>\n",
       "    <tr>\n",
       "      <th>3</th>\n",
       "      <td>Path: cantaloupe.srv.cs.cmu.edu!magnesium.club...</td>\n",
       "      <td>alt.atheism</td>\n",
       "    </tr>\n",
       "    <tr>\n",
       "      <th>4</th>\n",
       "      <td>Xref: cantaloupe.srv.cs.cmu.edu alt.atheism:53...</td>\n",
       "      <td>alt.atheism</td>\n",
       "    </tr>\n",
       "    <tr>\n",
       "      <th>...</th>\n",
       "      <td>...</td>\n",
       "      <td>...</td>\n",
       "    </tr>\n",
       "    <tr>\n",
       "      <th>1995</th>\n",
       "      <td>Xref: cantaloupe.srv.cs.cmu.edu talk.abortion:...</td>\n",
       "      <td>talk.religion.misc</td>\n",
       "    </tr>\n",
       "    <tr>\n",
       "      <th>1996</th>\n",
       "      <td>Xref: cantaloupe.srv.cs.cmu.edu talk.religion....</td>\n",
       "      <td>talk.religion.misc</td>\n",
       "    </tr>\n",
       "    <tr>\n",
       "      <th>1997</th>\n",
       "      <td>Xref: cantaloupe.srv.cs.cmu.edu talk.origins:4...</td>\n",
       "      <td>talk.religion.misc</td>\n",
       "    </tr>\n",
       "    <tr>\n",
       "      <th>1998</th>\n",
       "      <td>Xref: cantaloupe.srv.cs.cmu.edu talk.religion....</td>\n",
       "      <td>talk.religion.misc</td>\n",
       "    </tr>\n",
       "    <tr>\n",
       "      <th>1999</th>\n",
       "      <td>Xref: cantaloupe.srv.cs.cmu.edu sci.skeptic:43...</td>\n",
       "      <td>talk.religion.misc</td>\n",
       "    </tr>\n",
       "  </tbody>\n",
       "</table>\n",
       "<p>2000 rows × 2 columns</p>\n",
       "</div>"
      ],
      "text/plain": [
       "                                                   Data              Labels\n",
       "0     Path: cantaloupe.srv.cs.cmu.edu!magnesium.club...         alt.atheism\n",
       "1     Newsgroups: alt.atheism\\nPath: cantaloupe.srv....         alt.atheism\n",
       "2     Path: cantaloupe.srv.cs.cmu.edu!das-news.harva...         alt.atheism\n",
       "3     Path: cantaloupe.srv.cs.cmu.edu!magnesium.club...         alt.atheism\n",
       "4     Xref: cantaloupe.srv.cs.cmu.edu alt.atheism:53...         alt.atheism\n",
       "...                                                 ...                 ...\n",
       "1995  Xref: cantaloupe.srv.cs.cmu.edu talk.abortion:...  talk.religion.misc\n",
       "1996  Xref: cantaloupe.srv.cs.cmu.edu talk.religion....  talk.religion.misc\n",
       "1997  Xref: cantaloupe.srv.cs.cmu.edu talk.origins:4...  talk.religion.misc\n",
       "1998  Xref: cantaloupe.srv.cs.cmu.edu talk.religion....  talk.religion.misc\n",
       "1999  Xref: cantaloupe.srv.cs.cmu.edu sci.skeptic:43...  talk.religion.misc\n",
       "\n",
       "[2000 rows x 2 columns]"
      ]
     },
     "execution_count": 2,
     "metadata": {},
     "output_type": "execute_result"
    }
   ],
   "source": [
    "Data"
   ]
  },
  {
   "cell_type": "code",
   "execution_count": 3,
   "id": "cb6ee6a7-9f2d-478c-9cd4-65c08b80f33d",
   "metadata": {},
   "outputs": [
    {
     "name": "stdout",
     "output_type": "stream",
     "text": [
      "<class 'pandas.core.frame.DataFrame'>\n",
      "RangeIndex: 2000 entries, 0 to 1999\n",
      "Data columns (total 2 columns):\n",
      " #   Column  Non-Null Count  Dtype \n",
      "---  ------  --------------  ----- \n",
      " 0   Data    2000 non-null   object\n",
      " 1   Labels  2000 non-null   object\n",
      "dtypes: object(2)\n",
      "memory usage: 31.4+ KB\n"
     ]
    }
   ],
   "source": [
    "Data.info()"
   ]
  },
  {
   "cell_type": "code",
   "execution_count": 4,
   "id": "34efdade-8a5f-43b9-a457-73b3306e6499",
   "metadata": {},
   "outputs": [
    {
     "name": "stdout",
     "output_type": "stream",
     "text": [
      "Data      0\n",
      "Labels    0\n",
      "dtype: int64\n"
     ]
    }
   ],
   "source": [
    "print(Data.isnull().sum())"
   ]
  },
  {
   "cell_type": "code",
   "execution_count": 5,
   "id": "35cee4e6-0353-4872-a36c-6eda92fd46ca",
   "metadata": {},
   "outputs": [
    {
     "name": "stdout",
     "output_type": "stream",
     "text": [
      "Labels\n",
      "alt.atheism                 100\n",
      "comp.graphics               100\n",
      "talk.politics.misc          100\n",
      "talk.politics.mideast       100\n",
      "talk.politics.guns          100\n",
      "soc.religion.christian      100\n",
      "sci.space                   100\n",
      "sci.med                     100\n",
      "sci.electronics             100\n",
      "sci.crypt                   100\n",
      "rec.sport.hockey            100\n",
      "rec.sport.baseball          100\n",
      "rec.motorcycles             100\n",
      "rec.autos                   100\n",
      "misc.forsale                100\n",
      "comp.windows.x              100\n",
      "comp.sys.mac.hardware       100\n",
      "comp.sys.ibm.pc.hardware    100\n",
      "comp.os.ms-windows.misc     100\n",
      "talk.religion.misc          100\n",
      "Name: count, dtype: int64\n"
     ]
    }
   ],
   "source": [
    "print(Data['Labels'].value_counts())"
   ]
  },
  {
   "cell_type": "code",
   "execution_count": 6,
   "id": "618a93d0-294a-4f5e-a5d3-8c532712ab32",
   "metadata": {},
   "outputs": [],
   "source": [
    "# seems like all the blogs are balanced by containing 100 blogs and does not have missing values "
   ]
  },
  {
   "cell_type": "code",
   "execution_count": 7,
   "id": "7377e7d6-33b7-4be5-bcbe-34f3953a46ea",
   "metadata": {},
   "outputs": [
    {
     "data": {
      "text/plain": [
       "<Axes: >"
      ]
     },
     "execution_count": 7,
     "metadata": {},
     "output_type": "execute_result"
    },
    {
     "data": {
      "image/png": "[encoded data removed]",
      "text/plain": [
       "<Figure size 640x480 with 1 Axes>"
      ]
     },
     "metadata": {},
     "output_type": "display_data"
    }
   ],
   "source": [
    "Data['text_length'] = Data['Data'].apply(len)\n",
    "Data['text_length'].hist()"
   ]
  },
  {
   "cell_type": "code",
   "execution_count": 8,
   "id": "ae02fbd6-38c1-40b0-a373-05dee5756e91",
   "metadata": {},
   "outputs": [],
   "source": [
    "# Most of the blog post is small interms of characters length but there are longer posts in the dataset"
   ]
  },
  {
   "cell_type": "code",
   "execution_count": 9,
   "id": "1b069359-cc31-4167-9386-1a18ff283580",
   "metadata": {},
   "outputs": [
    {
     "name": "stderr",
     "output_type": "stream",
     "text": [
      "[nltk_data] Downloading package omw-1.4 to\n",
      "[nltk_data]     C:\\Users\\JOSHUAVIJAYA\\AppData\\Roaming\\nltk_data...\n",
      "[nltk_data]   Package omw-1.4 is already up-to-date!\n",
      "[nltk_data] Downloading package punkt to\n",
      "[nltk_data]     C:\\Users\\JOSHUAVIJAYA\\AppData\\Roaming\\nltk_data...\n",
      "[nltk_data]   Package punkt is already up-to-date!\n",
      "[nltk_data] Downloading package stopwords to\n",
      "[nltk_data]     C:\\Users\\JOSHUAVIJAYA\\AppData\\Roaming\\nltk_data...\n",
      "[nltk_data]   Package stopwords is already up-to-date!\n",
      "[nltk_data] Downloading package wordnet to\n",
      "[nltk_data]     C:\\Users\\JOSHUAVIJAYA\\AppData\\Roaming\\nltk_data...\n",
      "[nltk_data]   Package wordnet is already up-to-date!\n"
     ]
    },
    {
     "data": {
      "text/plain": [
       "True"
      ]
     },
     "execution_count": 9,
     "metadata": {},
     "output_type": "execute_result"
    }
   ],
   "source": [
    "import nltk\n",
    "import string\n",
    "from nltk.corpus import stopwords\n",
    "from nltk.tokenize import word_tokenize\n",
    "from nltk.stem import WordNetLemmatizer\n",
    "nltk.download('omw-1.4')\n",
    "nltk.download('punkt')\n",
    "nltk.download('stopwords')\n",
    "nltk.download('wordnet')"
   ]
  },
  {
   "cell_type": "code",
   "execution_count": 10,
   "id": "61b117a8-d3e2-41b9-95f1-fc13e285d97e",
   "metadata": {},
   "outputs": [],
   "source": [
    "stop_words = set(stopwords.words('english'))\n",
    "lemmatizer = WordNetLemmatizer()\n",
    "def preprocess(text):\n",
    "    text = text.lower()\n",
    "\n",
    "    text = text.translate(str.maketrans('', '', string.punctuation))\n",
    "\n",
    "    words = word_tokenize(text)\n",
    "\n",
    "    words = [lemmatizer.lemmatize(word) for word in words if word not in stop_words]\n",
    "    return ' '.join(words)\n",
    "Data['Clean Data'] = Data['Data'].apply(preprocess)"
   ]
  },
  {
   "cell_type": "code",
   "execution_count": 11,
   "id": "1f14792e-6d23-41b2-9774-f25f2327feaf",
   "metadata": {},
   "outputs": [
    {
     "data": {
      "text/html": [
       "<div>\n",
       "<style scoped>\n",
       "    .dataframe tbody tr th:only-of-type {\n",
       "        vertical-align: middle;\n",
       "    }\n",
       "\n",
       "    .dataframe tbody tr th {\n",
       "        vertical-align: top;\n",
       "    }\n",
       "\n",
       "    .dataframe thead th {\n",
       "        text-align: right;\n",
       "    }\n",
       "</style>\n",
       "<table border=\"1\" class=\"dataframe\">\n",
       "  <thead>\n",
       "    <tr style=\"text-align: right;\">\n",
       "      <th></th>\n",
       "      <th>Data</th>\n",
       "      <th>Labels</th>\n",
       "      <th>text_length</th>\n",
       "      <th>Clean Data</th>\n",
       "    </tr>\n",
       "  </thead>\n",
       "  <tbody>\n",
       "    <tr>\n",
       "      <th>0</th>\n",
       "      <td>Path: cantaloupe.srv.cs.cmu.edu!magnesium.club...</td>\n",
       "      <td>alt.atheism</td>\n",
       "      <td>5972</td>\n",
       "      <td>path cantaloupesrvcscmuedumagnesiumclubcccmued...</td>\n",
       "    </tr>\n",
       "    <tr>\n",
       "      <th>1</th>\n",
       "      <td>Newsgroups: alt.atheism\\nPath: cantaloupe.srv....</td>\n",
       "      <td>alt.atheism</td>\n",
       "      <td>1336</td>\n",
       "      <td>newsgroups altatheism path cantaloupesrvcscmue...</td>\n",
       "    </tr>\n",
       "    <tr>\n",
       "      <th>2</th>\n",
       "      <td>Path: cantaloupe.srv.cs.cmu.edu!das-news.harva...</td>\n",
       "      <td>alt.atheism</td>\n",
       "      <td>3116</td>\n",
       "      <td>path cantaloupesrvcscmuedudasnewsharvardedunoc...</td>\n",
       "    </tr>\n",
       "    <tr>\n",
       "      <th>3</th>\n",
       "      <td>Path: cantaloupe.srv.cs.cmu.edu!magnesium.club...</td>\n",
       "      <td>alt.atheism</td>\n",
       "      <td>15910</td>\n",
       "      <td>path cantaloupesrvcscmuedumagnesiumclubcccmued...</td>\n",
       "    </tr>\n",
       "    <tr>\n",
       "      <th>4</th>\n",
       "      <td>Xref: cantaloupe.srv.cs.cmu.edu alt.atheism:53...</td>\n",
       "      <td>alt.atheism</td>\n",
       "      <td>3264</td>\n",
       "      <td>xref cantaloupesrvcscmuedu altatheism53485 tal...</td>\n",
       "    </tr>\n",
       "    <tr>\n",
       "      <th>...</th>\n",
       "      <td>...</td>\n",
       "      <td>...</td>\n",
       "      <td>...</td>\n",
       "      <td>...</td>\n",
       "    </tr>\n",
       "    <tr>\n",
       "      <th>1995</th>\n",
       "      <td>Xref: cantaloupe.srv.cs.cmu.edu talk.abortion:...</td>\n",
       "      <td>talk.religion.misc</td>\n",
       "      <td>5263</td>\n",
       "      <td>xref cantaloupesrvcscmuedu talkabortion120945 ...</td>\n",
       "    </tr>\n",
       "    <tr>\n",
       "      <th>1996</th>\n",
       "      <td>Xref: cantaloupe.srv.cs.cmu.edu talk.religion....</td>\n",
       "      <td>talk.religion.misc</td>\n",
       "      <td>1771</td>\n",
       "      <td>xref cantaloupesrvcscmuedu talkreligionmisc837...</td>\n",
       "    </tr>\n",
       "    <tr>\n",
       "      <th>1997</th>\n",
       "      <td>Xref: cantaloupe.srv.cs.cmu.edu talk.origins:4...</td>\n",
       "      <td>talk.religion.misc</td>\n",
       "      <td>2192</td>\n",
       "      <td>xref cantaloupesrvcscmuedu talkorigins41030 ta...</td>\n",
       "    </tr>\n",
       "    <tr>\n",
       "      <th>1998</th>\n",
       "      <td>Xref: cantaloupe.srv.cs.cmu.edu talk.religion....</td>\n",
       "      <td>talk.religion.misc</td>\n",
       "      <td>3197</td>\n",
       "      <td>xref cantaloupesrvcscmuedu talkreligionmisc836...</td>\n",
       "    </tr>\n",
       "    <tr>\n",
       "      <th>1999</th>\n",
       "      <td>Xref: cantaloupe.srv.cs.cmu.edu sci.skeptic:43...</td>\n",
       "      <td>talk.religion.misc</td>\n",
       "      <td>4676</td>\n",
       "      <td>xref cantaloupesrvcscmuedu sciskeptic43561 tal...</td>\n",
       "    </tr>\n",
       "  </tbody>\n",
       "</table>\n",
       "<p>2000 rows × 4 columns</p>\n",
       "</div>"
      ],
      "text/plain": [
       "                                                   Data              Labels  \\\n",
       "0     Path: cantaloupe.srv.cs.cmu.edu!magnesium.club...         alt.atheism   \n",
       "1     Newsgroups: alt.atheism\\nPath: cantaloupe.srv....         alt.atheism   \n",
       "2     Path: cantaloupe.srv.cs.cmu.edu!das-news.harva...         alt.atheism   \n",
       "3     Path: cantaloupe.srv.cs.cmu.edu!magnesium.club...         alt.atheism   \n",
       "4     Xref: cantaloupe.srv.cs.cmu.edu alt.atheism:53...         alt.atheism   \n",
       "...                                                 ...                 ...   \n",
       "1995  Xref: cantaloupe.srv.cs.cmu.edu talk.abortion:...  talk.religion.misc   \n",
       "1996  Xref: cantaloupe.srv.cs.cmu.edu talk.religion....  talk.religion.misc   \n",
       "1997  Xref: cantaloupe.srv.cs.cmu.edu talk.origins:4...  talk.religion.misc   \n",
       "1998  Xref: cantaloupe.srv.cs.cmu.edu talk.religion....  talk.religion.misc   \n",
       "1999  Xref: cantaloupe.srv.cs.cmu.edu sci.skeptic:43...  talk.religion.misc   \n",
       "\n",
       "      text_length                                         Clean Data  \n",
       "0            5972  path cantaloupesrvcscmuedumagnesiumclubcccmued...  \n",
       "1            1336  newsgroups altatheism path cantaloupesrvcscmue...  \n",
       "2            3116  path cantaloupesrvcscmuedudasnewsharvardedunoc...  \n",
       "3           15910  path cantaloupesrvcscmuedumagnesiumclubcccmued...  \n",
       "4            3264  xref cantaloupesrvcscmuedu altatheism53485 tal...  \n",
       "...           ...                                                ...  \n",
       "1995         5263  xref cantaloupesrvcscmuedu talkabortion120945 ...  \n",
       "1996         1771  xref cantaloupesrvcscmuedu talkreligionmisc837...  \n",
       "1997         2192  xref cantaloupesrvcscmuedu talkorigins41030 ta...  \n",
       "1998         3197  xref cantaloupesrvcscmuedu talkreligionmisc836...  \n",
       "1999         4676  xref cantaloupesrvcscmuedu sciskeptic43561 tal...  \n",
       "\n",
       "[2000 rows x 4 columns]"
      ]
     },
     "execution_count": 11,
     "metadata": {},
     "output_type": "execute_result"
    }
   ],
   "source": [
    "Data"
   ]
  },
  {
   "cell_type": "code",
   "execution_count": 12,
   "id": "fb5f35d5-0a4c-43db-951b-fb4ab225dd59",
   "metadata": {},
   "outputs": [],
   "source": [
    "# the dataset is cleaned, the clean data is shown in the output above"
   ]
  },
  {
   "cell_type": "code",
   "execution_count": 13,
   "id": "007872fb-1336-4424-8254-4d0525146172",
   "metadata": {},
   "outputs": [],
   "source": [
    "from sklearn.feature_extraction.text import TfidfVectorizer\n",
    "vectorizer = TfidfVectorizer(max_features=5000)\n",
    "Data_X = vectorizer.fit_transform(Data['Clean Data']).toarray()\n",
    "Data_y = Data['Labels']"
   ]
  },
  {
   "cell_type": "code",
   "execution_count": 14,
   "id": "09e8f539-64dc-4517-88dd-2153d35ec10f",
   "metadata": {},
   "outputs": [],
   "source": [
    "# TF-IData is a method to convert text into numerical features"
   ]
  },
  {
   "cell_type": "code",
   "execution_count": 15,
   "id": "c7d35988-b9ef-49ef-85da-99f88c7c00a5",
   "metadata": {},
   "outputs": [
    {
     "data": {
      "text/plain": [
       "array([[0., 0., 0., ..., 0., 0., 0.],\n",
       "       [0., 0., 0., ..., 0., 0., 0.],\n",
       "       [0., 0., 0., ..., 0., 0., 0.],\n",
       "       ...,\n",
       "       [0., 0., 0., ..., 0., 0., 0.],\n",
       "       [0., 0., 0., ..., 0., 0., 0.],\n",
       "       [0., 0., 0., ..., 0., 0., 0.]])"
      ]
     },
     "execution_count": 15,
     "metadata": {},
     "output_type": "execute_result"
    }
   ],
   "source": [
    "Data_X"
   ]
  },
  {
   "cell_type": "code",
   "execution_count": 16,
   "id": "b4c4d76e-19cd-4f6a-a310-422c5c422285",
   "metadata": {},
   "outputs": [
    {
     "data": {
      "text/plain": [
       "0              alt.atheism\n",
       "1              alt.atheism\n",
       "2              alt.atheism\n",
       "3              alt.atheism\n",
       "4              alt.atheism\n",
       "               ...        \n",
       "1995    talk.religion.misc\n",
       "1996    talk.religion.misc\n",
       "1997    talk.religion.misc\n",
       "1998    talk.religion.misc\n",
       "1999    talk.religion.misc\n",
       "Name: Labels, Length: 2000, dtype: object"
      ]
     },
     "execution_count": 16,
     "metadata": {},
     "output_type": "execute_result"
    }
   ],
   "source": [
    "Data_y"
   ]
  },
  {
   "cell_type": "code",
   "execution_count": 17,
   "id": "7cda00b4-270c-4b88-9116-838beaa9e7cb",
   "metadata": {},
   "outputs": [],
   "source": [
    "from sklearn.model_selection import train_test_split\n",
    "X_train, X_test, y_train, y_test = train_test_split(Data_X, Data_y, test_size=0.2, random_state=40)"
   ]
  },
  {
   "cell_type": "code",
   "execution_count": 18,
   "id": "4de3b68a-0712-4653-bda3-8fbae4680db7",
   "metadata": {},
   "outputs": [],
   "source": [
    "from sklearn.naive_bayes import MultinomialNB\n",
    "\n",
    "nb_model = MultinomialNB()\n",
    "nb_model.fit(X_train, y_train)\n",
    "y_pred = nb_model.predict(X_test)"
   ]
  },
  {
   "cell_type": "code",
   "execution_count": 19,
   "id": "d6e36459-067d-4602-bba8-8d4a352013e0",
   "metadata": {},
   "outputs": [
    {
     "data": {
      "text/plain": [
       "array(['comp.sys.mac.hardware', 'sci.space', 'talk.politics.guns',\n",
       "       'rec.sport.hockey', 'sci.med', 'talk.politics.guns', 'sci.crypt',\n",
       "       'sci.crypt', 'comp.os.ms-windows.misc', 'rec.sport.baseball',\n",
       "       'comp.os.ms-windows.misc', 'comp.graphics', 'talk.politics.misc',\n",
       "       'talk.religion.misc', 'rec.sport.hockey', 'talk.politics.guns',\n",
       "       'sci.space', 'soc.religion.christian', 'comp.graphics',\n",
       "       'talk.politics.misc', 'rec.sport.baseball', 'comp.graphics',\n",
       "       'talk.politics.mideast', 'sci.med', 'rec.sport.hockey',\n",
       "       'sci.electronics', 'rec.sport.baseball', 'rec.sport.hockey',\n",
       "       'rec.sport.baseball', 'comp.sys.mac.hardware', 'alt.atheism',\n",
       "       'comp.sys.ibm.pc.hardware', 'comp.os.ms-windows.misc',\n",
       "       'rec.sport.baseball', 'talk.politics.misc',\n",
       "       'comp.sys.ibm.pc.hardware', 'soc.religion.christian',\n",
       "       'talk.politics.guns', 'misc.forsale', 'sci.med',\n",
       "       'talk.politics.mideast', 'sci.med', 'sci.electronics',\n",
       "       'comp.os.ms-windows.misc', 'talk.politics.misc', 'sci.med',\n",
       "       'comp.graphics', 'comp.os.ms-windows.misc', 'sci.space',\n",
       "       'comp.os.ms-windows.misc', 'rec.sport.hockey', 'sci.electronics',\n",
       "       'sci.crypt', 'comp.sys.mac.hardware', 'rec.motorcycles',\n",
       "       'talk.politics.guns', 'talk.politics.guns',\n",
       "       'comp.sys.ibm.pc.hardware', 'rec.autos', 'talk.politics.guns',\n",
       "       'comp.graphics', 'rec.autos', 'talk.politics.guns',\n",
       "       'comp.sys.mac.hardware', 'alt.atheism', 'soc.religion.christian',\n",
       "       'soc.religion.christian', 'comp.sys.ibm.pc.hardware',\n",
       "       'talk.politics.guns', 'comp.sys.ibm.pc.hardware',\n",
       "       'comp.os.ms-windows.misc', 'sci.crypt', 'soc.religion.christian',\n",
       "       'talk.religion.misc', 'rec.sport.baseball', 'sci.med',\n",
       "       'comp.os.ms-windows.misc', 'sci.med', 'talk.religion.misc',\n",
       "       'soc.religion.christian', 'sci.crypt', 'comp.os.ms-windows.misc',\n",
       "       'comp.sys.mac.hardware', 'rec.sport.hockey', 'rec.sport.hockey',\n",
       "       'talk.religion.misc', 'rec.sport.hockey', 'talk.religion.misc',\n",
       "       'sci.med', 'rec.sport.baseball', 'talk.politics.mideast',\n",
       "       'talk.politics.misc', 'misc.forsale', 'soc.religion.christian',\n",
       "       'rec.sport.baseball', 'comp.windows.x', 'comp.sys.ibm.pc.hardware',\n",
       "       'sci.crypt', 'rec.sport.baseball', 'sci.space', 'rec.autos',\n",
       "       'comp.graphics', 'rec.autos', 'sci.space', 'talk.politics.misc',\n",
       "       'talk.politics.mideast', 'misc.forsale', 'sci.electronics',\n",
       "       'comp.graphics', 'rec.sport.hockey', 'comp.sys.mac.hardware',\n",
       "       'rec.sport.baseball', 'comp.graphics', 'talk.religion.misc',\n",
       "       'misc.forsale', 'talk.religion.misc', 'sci.crypt',\n",
       "       'talk.politics.guns', 'alt.atheism', 'talk.politics.mideast',\n",
       "       'misc.forsale', 'sci.med', 'soc.religion.christian',\n",
       "       'sci.electronics', 'talk.religion.misc', 'sci.crypt',\n",
       "       'soc.religion.christian', 'sci.med', 'sci.med',\n",
       "       'comp.os.ms-windows.misc', 'comp.sys.mac.hardware', 'misc.forsale',\n",
       "       'talk.politics.guns', 'comp.sys.ibm.pc.hardware',\n",
       "       'soc.religion.christian', 'talk.politics.misc',\n",
       "       'soc.religion.christian', 'soc.religion.christian',\n",
       "       'rec.motorcycles', 'comp.sys.ibm.pc.hardware', 'sci.crypt',\n",
       "       'alt.atheism', 'talk.religion.misc', 'talk.politics.guns',\n",
       "       'rec.sport.baseball', 'comp.os.ms-windows.misc',\n",
       "       'comp.os.ms-windows.misc', 'talk.politics.guns',\n",
       "       'comp.os.ms-windows.misc', 'talk.politics.mideast',\n",
       "       'rec.sport.baseball', 'soc.religion.christian', 'misc.forsale',\n",
       "       'sci.med', 'rec.motorcycles', 'sci.crypt', 'sci.med', 'rec.autos',\n",
       "       'comp.sys.mac.hardware', 'talk.politics.misc', 'sci.space',\n",
       "       'soc.religion.christian', 'talk.politics.mideast', 'sci.med',\n",
       "       'alt.atheism', 'rec.sport.baseball', 'comp.graphics',\n",
       "       'talk.politics.mideast', 'sci.crypt', 'sci.electronics',\n",
       "       'sci.space', 'comp.sys.ibm.pc.hardware', 'rec.autos',\n",
       "       'talk.politics.misc', 'sci.space', 'talk.politics.guns',\n",
       "       'talk.politics.misc', 'comp.graphics', 'rec.motorcycles',\n",
       "       'sci.med', 'talk.politics.mideast', 'rec.sport.baseball',\n",
       "       'talk.religion.misc', 'talk.politics.guns', 'rec.motorcycles',\n",
       "       'sci.crypt', 'talk.religion.misc', 'talk.politics.mideast',\n",
       "       'misc.forsale', 'talk.politics.guns', 'comp.sys.mac.hardware',\n",
       "       'rec.autos', 'soc.religion.christian', 'rec.sport.baseball',\n",
       "       'comp.graphics', 'comp.sys.mac.hardware', 'sci.med',\n",
       "       'comp.graphics', 'sci.electronics', 'comp.os.ms-windows.misc',\n",
       "       'talk.politics.mideast', 'sci.crypt', 'comp.os.ms-windows.misc',\n",
       "       'talk.politics.misc', 'talk.politics.mideast',\n",
       "       'comp.os.ms-windows.misc', 'sci.crypt', 'comp.sys.mac.hardware',\n",
       "       'comp.windows.x', 'comp.graphics', 'sci.space', 'sci.electronics',\n",
       "       'talk.politics.guns', 'talk.politics.mideast',\n",
       "       'talk.religion.misc', 'sci.electronics', 'comp.os.ms-windows.misc',\n",
       "       'comp.sys.ibm.pc.hardware', 'talk.politics.guns',\n",
       "       'talk.politics.mideast', 'sci.electronics', 'sci.med',\n",
       "       'comp.sys.mac.hardware', 'talk.politics.mideast', 'misc.forsale',\n",
       "       'alt.atheism', 'comp.sys.ibm.pc.hardware', 'rec.motorcycles',\n",
       "       'alt.atheism', 'rec.motorcycles', 'sci.electronics',\n",
       "       'sci.electronics', 'rec.autos', 'rec.sport.baseball',\n",
       "       'misc.forsale', 'comp.sys.ibm.pc.hardware', 'comp.graphics',\n",
       "       'comp.sys.mac.hardware', 'rec.sport.hockey', 'sci.electronics',\n",
       "       'sci.space', 'comp.graphics', 'comp.graphics',\n",
       "       'comp.sys.ibm.pc.hardware', 'talk.politics.mideast',\n",
       "       'rec.sport.hockey', 'rec.sport.baseball', 'comp.graphics',\n",
       "       'alt.atheism', 'talk.politics.misc', 'talk.religion.misc',\n",
       "       'comp.sys.mac.hardware', 'rec.autos', 'talk.politics.mideast',\n",
       "       'soc.religion.christian', 'talk.politics.misc',\n",
       "       'comp.sys.ibm.pc.hardware', 'misc.forsale',\n",
       "       'comp.sys.mac.hardware', 'comp.windows.x', 'alt.atheism',\n",
       "       'rec.sport.hockey', 'comp.graphics', 'alt.atheism',\n",
       "       'comp.sys.mac.hardware', 'sci.med', 'talk.religion.misc',\n",
       "       'alt.atheism', 'talk.religion.misc', 'alt.atheism', 'rec.autos',\n",
       "       'rec.sport.hockey', 'comp.windows.x', 'comp.graphics',\n",
       "       'rec.motorcycles', 'misc.forsale', 'sci.electronics',\n",
       "       'rec.sport.hockey', 'comp.windows.x', 'sci.crypt', 'comp.graphics',\n",
       "       'comp.sys.mac.hardware', 'misc.forsale', 'talk.religion.misc',\n",
       "       'comp.sys.mac.hardware', 'sci.space', 'comp.windows.x',\n",
       "       'talk.religion.misc', 'comp.windows.x', 'soc.religion.christian',\n",
       "       'comp.windows.x', 'comp.os.ms-windows.misc', 'rec.motorcycles',\n",
       "       'comp.graphics', 'sci.space', 'comp.os.ms-windows.misc',\n",
       "       'sci.electronics', 'rec.autos', 'comp.sys.ibm.pc.hardware',\n",
       "       'sci.space', 'soc.religion.christian', 'comp.sys.ibm.pc.hardware',\n",
       "       'talk.religion.misc', 'soc.religion.christian', 'sci.space',\n",
       "       'rec.motorcycles', 'rec.sport.hockey', 'rec.motorcycles',\n",
       "       'rec.sport.hockey', 'rec.sport.baseball', 'sci.electronics',\n",
       "       'rec.motorcycles', 'soc.religion.christian', 'sci.electronics',\n",
       "       'rec.sport.hockey', 'comp.graphics', 'comp.os.ms-windows.misc',\n",
       "       'sci.electronics', 'talk.politics.mideast', 'rec.sport.baseball',\n",
       "       'soc.religion.christian', 'talk.politics.misc',\n",
       "       'talk.politics.mideast', 'talk.politics.misc',\n",
       "       'talk.politics.mideast', 'rec.sport.baseball',\n",
       "       'comp.sys.mac.hardware', 'rec.sport.baseball',\n",
       "       'talk.religion.misc', 'misc.forsale', 'talk.politics.mideast',\n",
       "       'sci.electronics', 'soc.religion.christian', 'sci.space',\n",
       "       'sci.space', 'comp.sys.mac.hardware', 'talk.politics.misc',\n",
       "       'sci.electronics', 'rec.sport.hockey', 'misc.forsale',\n",
       "       'comp.windows.x', 'rec.sport.baseball', 'alt.atheism',\n",
       "       'comp.windows.x', 'comp.windows.x', 'comp.sys.ibm.pc.hardware',\n",
       "       'rec.autos', 'comp.windows.x', 'rec.motorcycles',\n",
       "       'comp.sys.ibm.pc.hardware', 'comp.sys.mac.hardware',\n",
       "       'talk.religion.misc', 'rec.autos', 'comp.os.ms-windows.misc',\n",
       "       'misc.forsale', 'sci.crypt', 'talk.politics.mideast',\n",
       "       'misc.forsale', 'comp.graphics', 'talk.politics.guns',\n",
       "       'talk.politics.misc', 'talk.politics.mideast', 'rec.motorcycles',\n",
       "       'rec.sport.hockey', 'sci.space', 'talk.politics.misc',\n",
       "       'rec.sport.baseball', 'misc.forsale', 'rec.autos',\n",
       "       'talk.politics.guns', 'talk.politics.guns',\n",
       "       'soc.religion.christian', 'sci.med', 'sci.crypt',\n",
       "       'talk.politics.guns', 'rec.autos', 'alt.atheism', 'rec.autos',\n",
       "       'talk.politics.guns', 'rec.autos', 'alt.atheism', 'alt.atheism',\n",
       "       'talk.religion.misc', 'rec.autos', 'alt.atheism',\n",
       "       'talk.politics.guns', 'comp.sys.ibm.pc.hardware', 'sci.space',\n",
       "       'alt.atheism', 'rec.motorcycles', 'talk.politics.guns',\n",
       "       'comp.windows.x', 'comp.sys.ibm.pc.hardware',\n",
       "       'comp.os.ms-windows.misc', 'comp.windows.x', 'rec.autos',\n",
       "       'rec.sport.baseball', 'rec.motorcycles', 'rec.motorcycles',\n",
       "       'misc.forsale'], dtype='<U24')"
      ]
     },
     "execution_count": 19,
     "metadata": {},
     "output_type": "execute_result"
    }
   ],
   "source": [
    "y_pred"
   ]
  },
  {
   "cell_type": "markdown",
   "id": "4935e339-d1f5-4927-9444-8b4ec0818332",
   "metadata": {
    "jp-MarkdownHeadingCollapsed": true
   },
   "source": [
    "Using naive bayes classifier as Naive Bayes classifier is a simple yet powerful probabilistic machine learning algorithm used for classification tasks, especially in text classification like spam detection, sentiment analysis, and document categorization."
   ]
  },
  {
   "cell_type": "code",
   "execution_count": 20,
   "id": "d1e960c5-738c-4355-a377-b9b24b721d48",
   "metadata": {},
   "outputs": [
    {
     "name": "stdout",
     "output_type": "stream",
     "text": [
      "Accuracy: 0.8225\n",
      "Classification Report:\n",
      "                           precision    recall  f1-score   support\n",
      "\n",
      "             alt.atheism       0.72      0.76      0.74        17\n",
      "           comp.graphics       0.78      0.86      0.82        21\n",
      " comp.os.ms-windows.misc       0.50      1.00      0.67        11\n",
      "comp.sys.ibm.pc.hardware       0.80      0.76      0.78        21\n",
      "   comp.sys.mac.hardware       0.81      1.00      0.89        17\n",
      "          comp.windows.x       0.86      0.55      0.67        22\n",
      "            misc.forsale       0.89      0.68      0.77        25\n",
      "               rec.autos       0.95      0.95      0.95        19\n",
      "         rec.motorcycles       0.76      0.87      0.81        15\n",
      "      rec.sport.baseball       0.79      0.95      0.86        20\n",
      "        rec.sport.hockey       1.00      1.00      1.00        19\n",
      "               sci.crypt       0.88      1.00      0.94        15\n",
      "         sci.electronics       0.90      0.82      0.86        22\n",
      "                 sci.med       1.00      0.63      0.78        30\n",
      "               sci.space       0.89      0.94      0.91        17\n",
      "  soc.religion.christian       0.83      0.95      0.88        20\n",
      "      talk.politics.guns       1.00      0.83      0.91        30\n",
      "   talk.politics.mideast       0.96      0.96      0.96        23\n",
      "      talk.politics.misc       0.67      0.60      0.63        20\n",
      "      talk.religion.misc       0.48      0.62      0.54        16\n",
      "\n",
      "                accuracy                           0.82       400\n",
      "               macro avg       0.82      0.84      0.82       400\n",
      "            weighted avg       0.84      0.82      0.82       400\n",
      "\n"
     ]
    }
   ],
   "source": [
    "from sklearn.metrics import classification_report, accuracy_score\n",
    "print(\"Accuracy:\", accuracy_score(y_test, y_pred))\n",
    "print(\"Classification Report:\\n\", classification_report(y_test, y_pred))"
   ]
  },
  {
   "cell_type": "code",
   "execution_count": 21,
   "id": "2011793b-276f-4263-9ab4-68b43059f6bb",
   "metadata": {},
   "outputs": [],
   "source": [
    "# accuracy is 82 % and most data of precision and recall have score above 75% which indicates good performance while some classes have less than 50% "
   ]
  },
  {
   "cell_type": "code",
   "execution_count": 22,
   "id": "93e6ba40-0af5-4925-a76b-9cbb0a876791",
   "metadata": {},
   "outputs": [
    {
     "name": "stderr",
     "output_type": "stream",
     "text": [
      "[nltk_data] Downloading package vader_lexicon to\n",
      "[nltk_data]     C:\\Users\\JOSHUAVIJAYA\\AppData\\Roaming\\nltk_data...\n",
      "[nltk_data]   Package vader_lexicon is already up-to-date!\n"
     ]
    }
   ],
   "source": [
    "from nltk.sentiment import SentimentIntensityAnalyzer\n",
    "nltk.download('vader_lexicon')\n",
    "\n",
    "sia = SentimentIntensityAnalyzer()\n",
    "def get_sentiment(text):\n",
    "    score = sia.polarity_scores(text)['compound']\n",
    "    if score >= 0.05:\n",
    "        return 'Positive'\n",
    "    elif score <= -0.05:\n",
    "        return 'Negative'\n",
    "    else:\n",
    "        return 'Neutral'\n",
    "Data['Sentiment'] = Data['Data'].apply(get_sentiment)"
   ]
  },
  {
   "cell_type": "markdown",
   "id": "d187e9a6-ccfa-4ce6-879b-1897c7a1a808",
   "metadata": {},
   "source": [
    "Using vader (Valence Aware Dictionary and sentiment Reasoner)- is best for sentiment analysis for social media as it understands slong ans emojis as well giving best score.\n",
    "the SentimentIntensityAnalyzer calculates polarity scores, which we use to classify the sentiment of each blog post."
   ]
  },
  {
   "cell_type": "code",
   "execution_count": 23,
   "id": "26e6f045-7323-4940-b373-7c22558d26e1",
   "metadata": {},
   "outputs": [
    {
     "data": {
      "text/html": [
       "<div>\n",
       "<style scoped>\n",
       "    .dataframe tbody tr th:only-of-type {\n",
       "        vertical-align: middle;\n",
       "    }\n",
       "\n",
       "    .dataframe tbody tr th {\n",
       "        vertical-align: top;\n",
       "    }\n",
       "\n",
       "    .dataframe thead th {\n",
       "        text-align: right;\n",
       "    }\n",
       "</style>\n",
       "<table border=\"1\" class=\"dataframe\">\n",
       "  <thead>\n",
       "    <tr style=\"text-align: right;\">\n",
       "      <th></th>\n",
       "      <th>Data</th>\n",
       "      <th>Labels</th>\n",
       "      <th>text_length</th>\n",
       "      <th>Clean Data</th>\n",
       "      <th>Sentiment</th>\n",
       "    </tr>\n",
       "  </thead>\n",
       "  <tbody>\n",
       "    <tr>\n",
       "      <th>0</th>\n",
       "      <td>Path: cantaloupe.srv.cs.cmu.edu!magnesium.club...</td>\n",
       "      <td>alt.atheism</td>\n",
       "      <td>5972</td>\n",
       "      <td>path cantaloupesrvcscmuedumagnesiumclubcccmued...</td>\n",
       "      <td>Negative</td>\n",
       "    </tr>\n",
       "    <tr>\n",
       "      <th>1</th>\n",
       "      <td>Newsgroups: alt.atheism\\nPath: cantaloupe.srv....</td>\n",
       "      <td>alt.atheism</td>\n",
       "      <td>1336</td>\n",
       "      <td>newsgroups altatheism path cantaloupesrvcscmue...</td>\n",
       "      <td>Positive</td>\n",
       "    </tr>\n",
       "    <tr>\n",
       "      <th>2</th>\n",
       "      <td>Path: cantaloupe.srv.cs.cmu.edu!das-news.harva...</td>\n",
       "      <td>alt.atheism</td>\n",
       "      <td>3116</td>\n",
       "      <td>path cantaloupesrvcscmuedudasnewsharvardedunoc...</td>\n",
       "      <td>Negative</td>\n",
       "    </tr>\n",
       "    <tr>\n",
       "      <th>3</th>\n",
       "      <td>Path: cantaloupe.srv.cs.cmu.edu!magnesium.club...</td>\n",
       "      <td>alt.atheism</td>\n",
       "      <td>15910</td>\n",
       "      <td>path cantaloupesrvcscmuedumagnesiumclubcccmued...</td>\n",
       "      <td>Negative</td>\n",
       "    </tr>\n",
       "    <tr>\n",
       "      <th>4</th>\n",
       "      <td>Xref: cantaloupe.srv.cs.cmu.edu alt.atheism:53...</td>\n",
       "      <td>alt.atheism</td>\n",
       "      <td>3264</td>\n",
       "      <td>xref cantaloupesrvcscmuedu altatheism53485 tal...</td>\n",
       "      <td>Positive</td>\n",
       "    </tr>\n",
       "    <tr>\n",
       "      <th>...</th>\n",
       "      <td>...</td>\n",
       "      <td>...</td>\n",
       "      <td>...</td>\n",
       "      <td>...</td>\n",
       "      <td>...</td>\n",
       "    </tr>\n",
       "    <tr>\n",
       "      <th>1995</th>\n",
       "      <td>Xref: cantaloupe.srv.cs.cmu.edu talk.abortion:...</td>\n",
       "      <td>talk.religion.misc</td>\n",
       "      <td>5263</td>\n",
       "      <td>xref cantaloupesrvcscmuedu talkabortion120945 ...</td>\n",
       "      <td>Positive</td>\n",
       "    </tr>\n",
       "    <tr>\n",
       "      <th>1996</th>\n",
       "      <td>Xref: cantaloupe.srv.cs.cmu.edu talk.religion....</td>\n",
       "      <td>talk.religion.misc</td>\n",
       "      <td>1771</td>\n",
       "      <td>xref cantaloupesrvcscmuedu talkreligionmisc837...</td>\n",
       "      <td>Positive</td>\n",
       "    </tr>\n",
       "    <tr>\n",
       "      <th>1997</th>\n",
       "      <td>Xref: cantaloupe.srv.cs.cmu.edu talk.origins:4...</td>\n",
       "      <td>talk.religion.misc</td>\n",
       "      <td>2192</td>\n",
       "      <td>xref cantaloupesrvcscmuedu talkorigins41030 ta...</td>\n",
       "      <td>Positive</td>\n",
       "    </tr>\n",
       "    <tr>\n",
       "      <th>1998</th>\n",
       "      <td>Xref: cantaloupe.srv.cs.cmu.edu talk.religion....</td>\n",
       "      <td>talk.religion.misc</td>\n",
       "      <td>3197</td>\n",
       "      <td>xref cantaloupesrvcscmuedu talkreligionmisc836...</td>\n",
       "      <td>Positive</td>\n",
       "    </tr>\n",
       "    <tr>\n",
       "      <th>1999</th>\n",
       "      <td>Xref: cantaloupe.srv.cs.cmu.edu sci.skeptic:43...</td>\n",
       "      <td>talk.religion.misc</td>\n",
       "      <td>4676</td>\n",
       "      <td>xref cantaloupesrvcscmuedu sciskeptic43561 tal...</td>\n",
       "      <td>Negative</td>\n",
       "    </tr>\n",
       "  </tbody>\n",
       "</table>\n",
       "<p>2000 rows × 5 columns</p>\n",
       "</div>"
      ],
      "text/plain": [
       "                                                   Data              Labels  \\\n",
       "0     Path: cantaloupe.srv.cs.cmu.edu!magnesium.club...         alt.atheism   \n",
       "1     Newsgroups: alt.atheism\\nPath: cantaloupe.srv....         alt.atheism   \n",
       "2     Path: cantaloupe.srv.cs.cmu.edu!das-news.harva...         alt.atheism   \n",
       "3     Path: cantaloupe.srv.cs.cmu.edu!magnesium.club...         alt.atheism   \n",
       "4     Xref: cantaloupe.srv.cs.cmu.edu alt.atheism:53...         alt.atheism   \n",
       "...                                                 ...                 ...   \n",
       "1995  Xref: cantaloupe.srv.cs.cmu.edu talk.abortion:...  talk.religion.misc   \n",
       "1996  Xref: cantaloupe.srv.cs.cmu.edu talk.religion....  talk.religion.misc   \n",
       "1997  Xref: cantaloupe.srv.cs.cmu.edu talk.origins:4...  talk.religion.misc   \n",
       "1998  Xref: cantaloupe.srv.cs.cmu.edu talk.religion....  talk.religion.misc   \n",
       "1999  Xref: cantaloupe.srv.cs.cmu.edu sci.skeptic:43...  talk.religion.misc   \n",
       "\n",
       "      text_length                                         Clean Data Sentiment  \n",
       "0            5972  path cantaloupesrvcscmuedumagnesiumclubcccmued...  Negative  \n",
       "1            1336  newsgroups altatheism path cantaloupesrvcscmue...  Positive  \n",
       "2            3116  path cantaloupesrvcscmuedudasnewsharvardedunoc...  Negative  \n",
       "3           15910  path cantaloupesrvcscmuedumagnesiumclubcccmued...  Negative  \n",
       "4            3264  xref cantaloupesrvcscmuedu altatheism53485 tal...  Positive  \n",
       "...           ...                                                ...       ...  \n",
       "1995         5263  xref cantaloupesrvcscmuedu talkabortion120945 ...  Positive  \n",
       "1996         1771  xref cantaloupesrvcscmuedu talkreligionmisc837...  Positive  \n",
       "1997         2192  xref cantaloupesrvcscmuedu talkorigins41030 ta...  Positive  \n",
       "1998         3197  xref cantaloupesrvcscmuedu talkreligionmisc836...  Positive  \n",
       "1999         4676  xref cantaloupesrvcscmuedu sciskeptic43561 tal...  Negative  \n",
       "\n",
       "[2000 rows x 5 columns]"
      ]
     },
     "execution_count": 23,
     "metadata": {},
     "output_type": "execute_result"
    }
   ],
   "source": [
    "Data"
   ]
  },
  {
   "cell_type": "code",
   "execution_count": 24,
   "id": "ac5eec6b-9a14-446f-8308-e5ed572d434a",
   "metadata": {},
   "outputs": [
    {
     "name": "stdout",
     "output_type": "stream",
     "text": [
      "Sentiment\n",
      "Positive    1334\n",
      "Negative     631\n",
      "Neutral       35\n",
      "Name: count, dtype: int64\n",
      "Sentiment                 Negative  Neutral  Positive\n",
      "Labels                                               \n",
      "alt.atheism                     42        1        57\n",
      "comp.graphics                   13        4        83\n",
      "comp.os.ms-windows.misc         24        2        74\n",
      "comp.sys.ibm.pc.hardware        21        0        79\n",
      "comp.sys.mac.hardware           24        3        73\n",
      "comp.windows.x                  20        2        78\n",
      "misc.forsale                     7        8        85\n",
      "rec.autos                       27        1        72\n",
      "rec.motorcycles                 30        2        68\n",
      "rec.sport.baseball              27        1        72\n",
      "rec.sport.hockey                28        1        71\n",
      "sci.crypt                       29        0        71\n",
      "sci.electronics                 18        4        78\n",
      "sci.med                         38        1        61\n",
      "sci.space                       32        3        65\n",
      "soc.religion.christian          29        0        71\n",
      "talk.politics.guns              67        2        31\n",
      "talk.politics.mideast           69        0        31\n",
      "talk.politics.misc              50        0        50\n",
      "talk.religion.misc              36        0        64\n"
     ]
    }
   ],
   "source": [
    "print(Data['Sentiment'].value_counts())\n",
    "sentiment_by_category = pd.crosstab(Data['Labels'], Data['Sentiment'])\n",
    "print(sentiment_by_category)"
   ]
  },
  {
   "cell_type": "code",
   "execution_count": 25,
   "id": "5358e095-861b-40ac-8935-c98cb41bc36f",
   "metadata": {},
   "outputs": [
    {
     "data": {
      "image/png": "[encoded data removed]",
      "text/plain": [
       "<Figure size 640x480 with 1 Axes>"
      ]
     },
     "metadata": {},
     "output_type": "display_data"
    }
   ],
   "source": [
    "sns.countplot(data=Data, x='Sentiment', hue='Labels')\n",
    "plt.title(\"Sentiment Distribution by Category\")\n",
    "plt.legend(bbox_to_anchor=(1, 1), loc='upper left', borderaxespad=0.)\n",
    "plt.xticks(rotation=45)\n",
    "plt.show()"
   ]
  },
  {
   "cell_type": "code",
   "execution_count": 26,
   "id": "4cf335e2-06f7-47df-9880-8dd232e33813",
   "metadata": {},
   "outputs": [],
   "source": [
    "# Most blogs are positive ones and negative for certain blogs are hight and neutral are less common in this dataset."
   ]
  },
  {
   "cell_type": "code",
   "execution_count": 27,
   "id": "7605ed07-0a3e-49c6-839f-d27e40caf86e",
   "metadata": {},
   "outputs": [
    {
     "data": {
      "image/png": "[encoded data removed]",
      "text/plain": [
       "<Figure size 640x480 with 2 Axes>"
      ]
     },
     "metadata": {},
     "output_type": "display_data"
    }
   ],
   "source": [
    "from sklearn.metrics import confusion_matrix\n",
    "cm = confusion_matrix(y_test, y_pred)\n",
    "sns.heatmap(cm, annot=True, fmt='d', cmap='Blues')\n",
    "plt.xlabel(\"Predicted\")\n",
    "plt.ylabel(\"Actual\")\n",
    "plt.title(\"Confusion Matrix\")\n",
    "plt.show()"
   ]
  },
  {
   "cell_type": "markdown",
   "id": "a61e2ae2-828b-44a5-b400-1f0dba4418ca",
   "metadata": {},
   "source": [
    "Overall, the model performs quite well, with most classes having a high number of correct predictions. Some Misclassifications are there due to overlapping or similar content"
   ]
  },
  {
   "cell_type": "markdown",
   "id": "92ca6a6e-c5ad-4d68-98e5-103028dc9894",
   "metadata": {},
   "source": [
    "We used the VADER sentiment analyzer because it is well-suited for social text formats like blog posts, especially given its ability to interpret informal language, slang, and emojis and applying VADER to the blog text data, each post was labeled as Positive, Negative, or Neutral. \n",
    "The Naive Bayes classifier achieved strong performance on many categories. \n",
    "The confusion matrix has diagonal dominance, indicating that the model made mostly correct predictions."
   ]
  },
  {
   "cell_type": "code",
   "execution_count": null,
   "id": "dd5b414b-c996-49b3-a6d2-a4a902047528",
   "metadata": {},
   "outputs": [],
   "source": []
  }
 ],
 "metadata": {
  "kernelspec": {
   "display_name": "Python 3 (ipykernel)",
   "language": "python",
   "name": "python3"
  },
  "language_info": {
   "codemirror_mode": {
    "name": "ipython",
    "version": 3
   },
   "file_extension": ".py",
   "mimetype": "text/x-python",
   "name": "python",
   "nbconvert_exporter": "python",
   "pygments_lexer": "ipython3",
   "version": "3.10.9"
  }
 },
 "nbformat": 4,
 "nbformat_minor": 5
}
