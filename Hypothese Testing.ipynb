{
 "cells": [
  {
   "cell_type": "code",
   "execution_count": 1,
   "id": "a47f8d9f",
   "metadata": {},
   "outputs": [],
   "source": [
    "## CHI SQUARE TEST"
   ]
  },
  {
   "cell_type": "raw",
   "id": "7d4abb08",
   "metadata": {},
   "source": [
    "## Mizzare Corporation has collected data on customer satisfaction levels for two types of smart home devices: Smart Thermostats and Smart Lights. They want to determine if there's a significant association between the type of device purchased and the customer's satisfaction level."
   ]
  },
  {
   "cell_type": "code",
   "execution_count": 2,
   "id": "92bdaec5",
   "metadata": {},
   "outputs": [],
   "source": [
    "import pandas as pd \n",
    "from scipy.stats import chi2_contingency\n",
    "import scipy.stats"
   ]
  },
  {
   "cell_type": "code",
   "execution_count": 3,
   "id": "221877eb",
   "metadata": {},
   "outputs": [
    {
     "data": {
      "text/html": [
       "<div>\n",
       "<style scoped>\n",
       "    .dataframe tbody tr th:only-of-type {\n",
       "        vertical-align: middle;\n",
       "    }\n",
       "\n",
       "    .dataframe tbody tr th {\n",
       "        vertical-align: top;\n",
       "    }\n",
       "\n",
       "    .dataframe thead th {\n",
       "        text-align: right;\n",
       "    }\n",
       "</style>\n",
       "<table border=\"1\" class=\"dataframe\">\n",
       "  <thead>\n",
       "    <tr style=\"text-align: right;\">\n",
       "      <th></th>\n",
       "      <th>Satisfaction</th>\n",
       "      <th>Smart thermostat</th>\n",
       "      <th>Smart light</th>\n",
       "    </tr>\n",
       "  </thead>\n",
       "  <tbody>\n",
       "    <tr>\n",
       "      <th>0</th>\n",
       "      <td>Very satisfied</td>\n",
       "      <td>50</td>\n",
       "      <td>70</td>\n",
       "    </tr>\n",
       "    <tr>\n",
       "      <th>1</th>\n",
       "      <td>Satisfied</td>\n",
       "      <td>80</td>\n",
       "      <td>100</td>\n",
       "    </tr>\n",
       "    <tr>\n",
       "      <th>2</th>\n",
       "      <td>Neutral</td>\n",
       "      <td>60</td>\n",
       "      <td>90</td>\n",
       "    </tr>\n",
       "    <tr>\n",
       "      <th>3</th>\n",
       "      <td>Unsatisfied</td>\n",
       "      <td>30</td>\n",
       "      <td>50</td>\n",
       "    </tr>\n",
       "    <tr>\n",
       "      <th>4</th>\n",
       "      <td>Very satisfied</td>\n",
       "      <td>20</td>\n",
       "      <td>50</td>\n",
       "    </tr>\n",
       "  </tbody>\n",
       "</table>\n",
       "</div>"
      ],
      "text/plain": [
       "     Satisfaction  Smart thermostat  Smart light\n",
       "0  Very satisfied                50           70\n",
       "1       Satisfied                80          100\n",
       "2         Neutral                60           90\n",
       "3     Unsatisfied                30           50\n",
       "4  Very satisfied                20           50"
      ]
     },
     "execution_count": 3,
     "metadata": {},
     "output_type": "execute_result"
    }
   ],
   "source": [
    "First_str = [[\"Very satisfied\",50,70],[\"Satisfied\",80,100],[\"Neutral\",60,90],[\"Unsatisfied\",30,50],[\"Very satisfied\",20,50]]\n",
    "Firstdf = pd.DataFrame(First_str, columns = [\"Satisfaction\",\"Smart thermostat\",\"Smart light\"])\n",
    "Firstdf "
   ]
  },
  {
   "cell_type": "raw",
   "id": "07a05801",
   "metadata": {},
   "source": [
    "## State the hypothesis"
   ]
  },
  {
   "cell_type": "raw",
   "id": "33774643",
   "metadata": {},
   "source": [
    "## Null Hypothesis : There is no relationship between type of device and customer satisfation level\n",
    "   Alternate Hypothesis : There is a relationship between type of device and customer satisfation level"
   ]
  },
  {
   "cell_type": "code",
   "execution_count": 12,
   "id": "d82590d6",
   "metadata": {},
   "outputs": [
    {
     "name": "stdout",
     "output_type": "stream",
     "text": [
      "Chi-Square Statistic: 5.638227513227513\n",
      "p-value: 0.22784371130697179\n",
      "Degrees of Freedom: 4\n"
     ]
    }
   ],
   "source": [
    "Table = [[50, 70], [80, 100], [60, 90], [30, 50], [20, 50]]\n",
    "chi2, p, dof, expected = chi2_contingency(Table)\n",
    "print(\"Chi-Square Statistic:\", chi2)\n",
    "print(\"p-value:\", p)\n",
    "print(f\"Degrees of Freedom: {dof}\")"
   ]
  },
  {
   "cell_type": "code",
   "execution_count": 5,
   "id": "7f94f83e",
   "metadata": {},
   "outputs": [
    {
     "name": "stdout",
     "output_type": "stream",
     "text": [
      "Critical value: 9.487729036781154\n"
     ]
    }
   ],
   "source": [
    "alpha = 0.05\n",
    "critical_value = scipy.stats.chi2.ppf(1 - alpha, dof)\n",
    "print(\"Critical value:\", critical_value)"
   ]
  },
  {
   "cell_type": "code",
   "execution_count": 6,
   "id": "4d52d31d",
   "metadata": {},
   "outputs": [
    {
     "name": "stdout",
     "output_type": "stream",
     "text": [
      "Cannot reject the null hypothesis: There is no significant association between device type and satisfaction level.\n"
     ]
    }
   ],
   "source": [
    "if chi2 > critical_value:\n",
    "    print(\"Reject the null hypothesis: There is a significant association between device type and satisfaction level\")\n",
    "else:\n",
    "    print(\"Cannot reject the null hypothesis: There is no significant association between device type and satisfaction level.\")"
   ]
  },
  {
   "cell_type": "code",
   "execution_count": 7,
   "id": "a6e30c2b",
   "metadata": {},
   "outputs": [],
   "source": [
    "## HYPOTHESIS TESTING"
   ]
  },
  {
   "cell_type": "raw",
   "id": "e5e426c6",
   "metadata": {},
   "source": [
    "## Bombay hospitality Ltd. operates a franchise model for producing exotic Norwegian dinners throughout New England. The operating cost for a franchise in a week (W) is given by the equation W = $1,000 + $5X, where X represents the number of units produced in a week. Recent feedback from restaurant owners suggests that this cost model may no longer be accurate, as their observed weekly operating costs are higher.\n",
    "Objective:\n",
    "To investigate the restaurant owners' claim about the increase in weekly operating costs using hypothesis testing.\n",
    "Data Provided:\n",
    "•\tThe theoretical weekly operating cost model: W = $1,000 + $5X\n",
    "•\tSample of 25 restaurants with a mean weekly cost of Rs. 3,050\n",
    "•\tNumber of units produced in a week (X) follows a normal distribution with a mean (μ) of 600 units and a standard deviation (σ) of 25 units\n"
   ]
  },
  {
   "cell_type": "code",
   "execution_count": 8,
   "id": "81a450f8",
   "metadata": {},
   "outputs": [
    {
     "name": "stdout",
     "output_type": "stream",
     "text": [
      "Mean based on the weekly model cost: 4000\n",
      "standard dev: 125\n",
      "sample mean 38.125\n"
     ]
    }
   ],
   "source": [
    "# Given\n",
    "import numpy as np\n",
    "from scipy import stats\n",
    "mean = 1000 + 5*600\n",
    "standard_dev = 5*25\n",
    "sample_mean = 3050/80 #converting Rupees to dollors\n",
    "sample_size = 25\n",
    "print(\"Mean based on the weekly model cost:\", mean)\n",
    "print(\"standard dev:\",standard_dev)\n",
    "print(\"sample mean\", sample_mean)"
   ]
  },
  {
   "cell_type": "code",
   "execution_count": 9,
   "id": "521b89c5",
   "metadata": {},
   "outputs": [
    {
     "name": "stdout",
     "output_type": "stream",
     "text": [
      "25.0\n",
      "z - test: -158.475\n"
     ]
    }
   ],
   "source": [
    "# we use z - test\n",
    "Standard_error = standard_dev / np.sqrt(sample_size) \n",
    "z = (sample_mean - mean) / Standard_error\n",
    "print(Standard_error)\n",
    "print(\"z - test:\",z)"
   ]
  },
  {
   "cell_type": "code",
   "execution_count": 10,
   "id": "b22eb6ef",
   "metadata": {},
   "outputs": [
    {
     "name": "stdout",
     "output_type": "stream",
     "text": [
      "Critical Value (Z): 1.6448536269514722\n"
     ]
    }
   ],
   "source": [
    "alpha = 0.05\n",
    "z_critical = stats.norm.ppf(1 - alpha) # z critical to determine critical value from the standard normal dist\n",
    "print(\"Critical Value (Z):\", z_critical)"
   ]
  },
  {
   "cell_type": "code",
   "execution_count": 11,
   "id": "3d6b84f8",
   "metadata": {},
   "outputs": [
    {
     "name": "stdout",
     "output_type": "stream",
     "text": [
      "Reject the null hypothesis\n"
     ]
    }
   ],
   "source": [
    "if z > z_critical:\n",
    "    print(\"Could not reject the null hypothesis\")\n",
    "else:\n",
    "    print(\"Reject the null hypothesis\")"
   ]
  },
  {
   "cell_type": "raw",
   "id": "be533f46",
   "metadata": {},
   "source": [
    " ## We conclude that there is a strong evidence that to supoort the owners claim about the increase in weekly operation cost"
   ]
  }
 ],
 "metadata": {
  "kernelspec": {
   "display_name": "Python 3 (ipykernel)",
   "language": "python",
   "name": "python3"
  },
  "language_info": {
   "codemirror_mode": {
    "name": "ipython",
    "version": 3
   },
   "file_extension": ".py",
   "mimetype": "text/x-python",
   "name": "python",
   "nbconvert_exporter": "python",
   "pygments_lexer": "ipython3",
   "version": "3.10.9"
  }
 },
 "nbformat": 4,
 "nbformat_minor": 5
}
